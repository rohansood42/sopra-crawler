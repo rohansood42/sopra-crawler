{
 "cells": [
  {
   "cell_type": "code",
   "execution_count": 14,
   "metadata": {
    "collapsed": true
   },
   "outputs": [],
   "source": [
    "import bs4 as bs\n",
    "import requests"
   ]
  },
  {
   "cell_type": "code",
   "execution_count": 15,
   "metadata": {
    "collapsed": true
   },
   "outputs": [],
   "source": [
    "sauce = requests.get('http://www.soprasteria.in/footer/sitemap').text"
   ]
  },
  {
   "cell_type": "code",
   "execution_count": 16,
   "metadata": {
    "collapsed": false
   },
   "outputs": [],
   "source": [
    "soup = bs.BeautifulSoup(sauce,'html.parser')"
   ]
  },
  {
   "cell_type": "code",
   "execution_count": 17,
   "metadata": {
    "collapsed": false
   },
   "outputs": [],
   "source": [
    "main_list = soup.find_all('ul')[5]"
   ]
  },
  {
   "cell_type": "code",
   "execution_count": 27,
   "metadata": {
    "collapsed": false,
    "scrolled": true
   },
   "outputs": [],
   "source": [
    "links_to_parse = []\n",
    "for link in main_list.find_all('a'):\n",
    "    links_to_parse.append(\"http://www.soprasteria.in\" + link.get('href')[2:])\n"
   ]
  },
  {
   "cell_type": "code",
   "execution_count": 28,
   "metadata": {
    "collapsed": true
   },
   "outputs": [],
   "source": [
    "for pag in links_to_parse:\n",
    "    mSauce = requests.get(pag).text\n",
    "    mSoup = bs.BeautifulSoup(mSauce,'lxml')\n",
    "    fh = open(\"%s.txt\" % pag.split('/')[-1],\"w\")\n",
    "    for t in mSoup.body.find_all('p'):\n",
    "        fh.write(t.text.encode('utf-8'))\n",
    "        fh.write('\\n\\n')\n",
    "    fh.close()"
   ]
  },
  {
   "cell_type": "code",
   "execution_count": 37,
   "metadata": {
    "collapsed": true
   },
   "outputs": [],
   "source": [
    "sauce = requests.get('http://www.soprasteria.in/about-us/locations').text\n",
    "soup = bs.BeautifulSoup(sauce,'lxml')"
   ]
  },
  {
   "cell_type": "code",
   "execution_count": 47,
   "metadata": {
    "collapsed": false
   },
   "outputs": [],
   "source": [
    "text = soup.find('div', attrs={ \"class\" : \"content main\"}).text.encode('utf-8')\n",
    "fh = open(\"locations.txt\",\"w\")\n",
    "fh.write(text)\n",
    "fh.close()"
   ]
  },
  {
   "cell_type": "code",
   "execution_count": 110,
   "metadata": {
    "collapsed": false
   },
   "outputs": [],
   "source": [
    "sauce = requests.get('https://www.soprasteria.com/en/markets/aerospace').text\n",
    "soup = bs.BeautifulSoup(sauce,'lxml')\n",
    "\n",
    "for script in soup([\"script\", \"style\"]):\n",
    "    script.decompose()    # rip it out\n",
    "\n",
    "fh = open(\"markets.txt\",\"w\")\n",
    "text = soup.find('div', attrs={ \"class\" : \"brick _red _width_x2 _height_mini _nudge_bottom _nudge_right_alpha _right\"}).text.encode('utf-8')\n",
    "fh.write(text)\n",
    "text = soup.find('div', attrs={ \"class\" : \"sf_colsOut content main\"}).text.encode('utf-8')\n",
    "\n",
    "fh.write(text)\n",
    "fh.close()"
   ]
  },
  {
   "cell_type": "code",
   "execution_count": 149,
   "metadata": {
    "collapsed": false
   },
   "outputs": [],
   "source": [
    "sauce = requests.get('https://www.soprasteria.com/en/markets').text\n",
    "soup = bs.BeautifulSoup(sauce,'lxml')\n",
    "\n",
    "for script in soup([\"script\", \"style\"]):\n",
    "    script.decompose()    # rip it out\n",
    "\n",
    "text = soup.find('div', attrs={ \"id\" : \"placeholder_3_widget_0_C001_Col00\"}).text.encode('utf-8')\n",
    "\n",
    "lines = (line.strip() for line in text.splitlines())\n",
    "\n",
    "text = '\\n'.join(line for line in lines if line)\n",
    "\n",
    "#fh = open(\"markets.txt\",\"w\")\n",
    "#fh.write(text)\n",
    "#fh.close()\n",
    "\n",
    "markets_to_crawl = []\n",
    "\n",
    "for market in soup.find('div', attrs={ \"class\" : \"brick _alpha_light _right\"}).findAll('a'):\n",
    "    markets_to_crawl.append(\"https://www.soprasteria.com\" + market.get('href').encode('utf-8'))\n"
   ]
  },
  {
   "cell_type": "code",
   "execution_count": 151,
   "metadata": {
    "collapsed": false
   },
   "outputs": [],
   "source": [
    "for link in markets_to_crawl:\n",
    "    sauce = requests.get(link).text\n",
    "    soup = bs.BeautifulSoup(sauce,'lxml')\n",
    "\n",
    "    for script in soup([\"script\", \"style\"]):\n",
    "        script.decompose()    # rip it out\n",
    "\n",
    "    fh = open(\"%s.txt\" % link.split('/')[-1],\"w\")\n",
    "    text = soup.find('div', attrs={ \"class\" : \"brick _red _width_x2 _height_mini _nudge_bottom _nudge_right_alpha _right\"}).text.encode('utf-8')\n",
    "    fh.write(text)\n",
    "    text = soup.find('div', attrs={ \"class\" : \"sf_colsOut content main\"}).text.encode('utf-8')\n",
    "\n",
    "    fh.write(text)\n",
    "    fh.close()"
   ]
  },
  {
   "cell_type": "code",
   "execution_count": 196,
   "metadata": {
    "collapsed": false
   },
   "outputs": [],
   "source": [
    "pages_left = ['http://www.soprasteria.in/about-us/global-delivery-model',\n",
    "              'http://www.soprasteria.in/careers/life-in-sopra-steria'\n",
    "             ]\n",
    "\n",
    "for link in pages_left:\n",
    "    sauce = requests.get(link).text\n",
    "    soup = bs.BeautifulSoup(sauce,'lxml')\n",
    "\n",
    "    for script in soup([\"script\", \"style\"]):\n",
    "        script.decompose()\n",
    "        \n",
    "    text = soup.find('div', attrs={ \"class\" : \"sf_colsIn sf_2cols_1in_67\"}).text.encode('utf-8')\n",
    "    fh = open(\"%s.txt\" % link.split('/')[-1],\"w\")\n",
    "    fh.write(text)\n",
    "    fh.close()"
   ]
  },
  {
   "cell_type": "code",
   "execution_count": 230,
   "metadata": {
    "collapsed": false
   },
   "outputs": [],
   "source": [
    "from selenium.webdriver.support import expected_conditions as EC\n",
    "from selenium.webdriver.support.ui import WebDriverWait as wait\n",
    "from selenium import webdriver\n",
    "\n",
    "driver = webdriver.PhantomJS()\n",
    "driver.get(\"https://steria.taleo.net/careersection/in_cs_ext_fs/jobsearch.ftl?lang=en&radiusType=K&location=462170431401&searchExpanded=true&radius=1\")\n",
    "table = wait(driver, 10).until(EC.presence_of_element_located((\"xpath\", \"//table[@id='jobs' and ./tbody/tr]\")))\n",
    "text1 = table.text\n",
    "next_button = driver.find_element_by_link_text(\"Next\")\n",
    "next_button.click()\n",
    "\n",
    "wait(driver, 5).until(lambda x: next_button.get_attribute(\"aria-disabled\") == \"true\")\n",
    "table = wait(driver, 10).until(EC.presence_of_element_located((\"xpath\", \"//table[@id='jobs' and ./tbody/tr]\")))\n",
    "text2 = table.text\n",
    "driver.close()"
   ]
  },
  {
   "cell_type": "code",
   "execution_count": 233,
   "metadata": {
    "collapsed": false
   },
   "outputs": [],
   "source": [
    "fh = open('current-openings.txt','w')\n",
    "fh.write(text1.encode('utf-8'))\n",
    "fh.write(text2.encode('utf-8'))\n",
    "fh.close()"
   ]
  },
  {
   "cell_type": "code",
   "execution_count": 281,
   "metadata": {
    "collapsed": false
   },
   "outputs": [],
   "source": [
    "sauce = requests.get('https://www.soprasteria.com/en/solutions').text\n",
    "soup = bs.BeautifulSoup(sauce,'lxml')\n",
    "\n",
    "solution_links = []\n",
    "i=0\n",
    "    \n",
    "for link in soup.find('div', attrs={ \"class\" : \"brick _alpha_light _right\"}).find_all('a'):\n",
    "    if i != 5:\n",
    "        solution_links.append(\"http://www.soprasteria.com\" + link.get('href'))\n",
    "    i=i+1"
   ]
  },
  {
   "cell_type": "code",
   "execution_count": 318,
   "metadata": {
    "collapsed": false,
    "scrolled": true
   },
   "outputs": [
    {
     "name": "stdout",
     "output_type": "stream",
     "text": [
      "link\n",
      "link\n",
      "link\n",
      "link\n",
      "link\n",
      "link\n"
     ]
    }
   ],
   "source": [
    "for link in solution_links:\n",
    "    while True:\n",
    "        try:\n",
    "            sauce = requests.get(link).text\n",
    "        except requests.ConnectionError:\n",
    "            continue\n",
    "        break\n",
    "    soup = bs.BeautifulSoup(sauce,'lxml')\n",
    "    \n",
    "    for script in soup([\"script\", \"style\"]):\n",
    "        script.decompose()    # rip it out\n",
    "    \n",
    "    \n",
    "    if soup.find('div', attrs={ \"class\" : \"brick _alpha_light _right\"}) is None:\n",
    "        text = soup.find('div', attrs={ \"class\" : \"brick _red _width_x2 _height_mini _nudge_bottom _nudge_right_alpha _right\"}).text.encode('utf-8')\n",
    "        fh = open(\"%s.txt\" % link.split('/')[-1],\"w\")\n",
    "        fh.write(text)\n",
    "        text = soup.find('div', attrs={ \"class\" : \"sf_colsIn sf_2cols_1in_67\"}).text.encode('utf-8')\n",
    "        fh.write(text)\n",
    "        fh.close()\n",
    "    else:\n",
    "        text = soup.find('div', attrs={ \"class\" : \"brick _red _width_x2 _nudge_bottom _right\"}).text.encode('utf-8')\n",
    "        fh = open(\"%s.txt\" % link.split('/')[-1],\"w\")\n",
    "        fh.write(text)\n",
    "        text = soup.find('div', attrs={ \"class\" : \"sf_colsIn sf_2cols_1in_67\"}).text.encode('utf-8')\n",
    "        fh.write(text)\n",
    "        fh.close()\n",
    "        for l in soup.find('div', attrs={ \"class\" : \"brick _alpha_light _right\"}).find_all('a'):\n",
    "            page = \"http://www.soprasteria.com\" + l.get('href')\n",
    "            while True:\n",
    "                try:\n",
    "                    s = requests.get(page).text\n",
    "                except requests.ConnectionError:\n",
    "                    continue\n",
    "                break\n",
    "            su = bs.BeautifulSoup(s,'lxml')\n",
    "            text = su.find('div', attrs={ \"class\" : \"brick _red _width_x2 _height_mini _nudge_bottom _nudge_right_alpha _right\"}).text.encode('utf-8')\n",
    "            fh = open(\"%s.txt\" % page.split('/')[-1],\"w\")\n",
    "            fh.write(text)\n",
    "            text = su.find('div', attrs={ \"class\" : \"sf_colsIn sf_2cols_1in_67\"}).text.encode('utf-8')\n",
    "            fh.write(text)\n",
    "            fh.close()\n",
    "            \n",
    "            "
   ]
  },
  {
   "cell_type": "code",
   "execution_count": 302,
   "metadata": {
    "collapsed": false
   },
   "outputs": [
    {
     "name": "stdout",
     "output_type": "stream",
     "text": [
      "consulting\n",
      "systems-integration\n",
      "scientific-technical-industrial-and-embedded-software-engineering\n",
      "applications-management\n",
      "testing\n",
      "infrastructure-management\n",
      "business-process-services\n",
      "software\n"
     ]
    }
   ],
   "source": [
    "TODO: https://www.soprasteria.com/en/offerings"
   ]
  },
  {
   "cell_type": "code",
   "execution_count": null,
   "metadata": {
    "collapsed": true
   },
   "outputs": [],
   "source": []
  }
 ],
 "metadata": {
  "anaconda-cloud": {},
  "kernelspec": {
   "display_name": "Python [default]",
   "language": "python",
   "name": "python2"
  },
  "language_info": {
   "codemirror_mode": {
    "name": "ipython",
    "version": 2
   },
   "file_extension": ".py",
   "mimetype": "text/x-python",
   "name": "python",
   "nbconvert_exporter": "python",
   "pygments_lexer": "ipython2",
   "version": "2.7.12"
  }
 },
 "nbformat": 4,
 "nbformat_minor": 1
}
