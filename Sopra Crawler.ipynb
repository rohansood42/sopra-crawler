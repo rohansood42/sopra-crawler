{
 "cells": [
  {
   "cell_type": "code",
   "execution_count": 14,
   "metadata": {
    "collapsed": true
   },
   "outputs": [],
   "source": [
    "import bs4 as bs\n",
    "import requests"
   ]
  },
  {
   "cell_type": "code",
   "execution_count": 15,
   "metadata": {
    "collapsed": true
   },
   "outputs": [],
   "source": [
    "sauce = requests.get('http://www.soprasteria.in/footer/sitemap').text"
   ]
  },
  {
   "cell_type": "code",
   "execution_count": 16,
   "metadata": {
    "collapsed": false
   },
   "outputs": [],
   "source": [
    "soup = bs.BeautifulSoup(sauce,'html.parser')"
   ]
  },
  {
   "cell_type": "code",
   "execution_count": 17,
   "metadata": {
    "collapsed": false
   },
   "outputs": [],
   "source": [
    "main_list = soup.find_all('ul')[5]"
   ]
  },
  {
   "cell_type": "code",
   "execution_count": 27,
   "metadata": {
    "collapsed": false,
    "scrolled": true
   },
   "outputs": [],
   "source": [
    "links_to_parse = []\n",
    "for link in main_list.find_all('a'):\n",
    "    links_to_parse.append(\"http://www.soprasteria.in\" + link.get('href')[2:])\n"
   ]
  },
  {
   "cell_type": "code",
   "execution_count": 28,
   "metadata": {
    "collapsed": true
   },
   "outputs": [],
   "source": [
    "for pag in links_to_parse:\n",
    "    mSauce = requests.get(pag).text\n",
    "    mSoup = bs.BeautifulSoup(mSauce,'lxml')\n",
    "    fh = open(\"%s.txt\" % pag.split('/')[-1],\"w\")\n",
    "    for t in mSoup.body.find_all('p'):\n",
    "        fh.write(t.text.encode('utf-8'))\n",
    "        fh.write('\\n\\n')\n",
    "    fh.close()"
   ]
  },
  {
   "cell_type": "code",
   "execution_count": 37,
   "metadata": {
    "collapsed": true
   },
   "outputs": [],
   "source": [
    "sauce = requests.get('http://www.soprasteria.in/about-us/locations').text\n",
    "soup = bs.BeautifulSoup(sauce,'lxml')"
   ]
  },
  {
   "cell_type": "code",
   "execution_count": 47,
   "metadata": {
    "collapsed": false
   },
   "outputs": [],
   "source": [
    "text = soup.find('div', attrs={ \"class\" : \"content main\"}).text.encode('utf-8')\n",
    "fh = open(\"locations.txt\",\"w\")\n",
    "fh.write(text)\n",
    "fh.close()"
   ]
  },
  {
   "cell_type": "code",
   "execution_count": 110,
   "metadata": {
    "collapsed": false
   },
   "outputs": [],
   "source": [
    "sauce = requests.get('https://www.soprasteria.com/en/markets/aerospace').text\n",
    "soup = bs.BeautifulSoup(sauce,'lxml')\n",
    "\n",
    "for script in soup([\"script\", \"style\"]):\n",
    "    script.decompose()    # rip it out\n",
    "\n",
    "fh = open(\"markets.txt\",\"w\")\n",
    "text = soup.find('div', attrs={ \"class\" : \"brick _red _width_x2 _height_mini _nudge_bottom _nudge_right_alpha _right\"}).text.encode('utf-8')\n",
    "fh.write(text)\n",
    "text = soup.find('div', attrs={ \"class\" : \"sf_colsOut content main\"}).text.encode('utf-8')\n",
    "\n",
    "fh.write(text)\n",
    "fh.close()"
   ]
  },
  {
   "cell_type": "code",
   "execution_count": 149,
   "metadata": {
    "collapsed": false
   },
   "outputs": [],
   "source": [
    "sauce = requests.get('https://www.soprasteria.com/en/markets').text\n",
    "soup = bs.BeautifulSoup(sauce,'lxml')\n",
    "\n",
    "for script in soup([\"script\", \"style\"]):\n",
    "    script.decompose()    # rip it out\n",
    "\n",
    "text = soup.find('div', attrs={ \"id\" : \"placeholder_3_widget_0_C001_Col00\"}).text.encode('utf-8')\n",
    "\n",
    "lines = (line.strip() for line in text.splitlines())\n",
    "\n",
    "text = '\\n'.join(line for line in lines if line)\n",
    "\n",
    "#fh = open(\"markets.txt\",\"w\")\n",
    "#fh.write(text)\n",
    "#fh.close()\n",
    "\n",
    "markets_to_crawl = []\n",
    "\n",
    "for market in soup.find('div', attrs={ \"class\" : \"brick _alpha_light _right\"}).findAll('a'):\n",
    "    markets_to_crawl.append(\"https://www.soprasteria.com\" + market.get('href').encode('utf-8'))\n"
   ]
  },
  {
   "cell_type": "code",
   "execution_count": 151,
   "metadata": {
    "collapsed": false
   },
   "outputs": [],
   "source": [
    "for link in markets_to_crawl:\n",
    "    sauce = requests.get(link).text\n",
    "    soup = bs.BeautifulSoup(sauce,'lxml')\n",
    "\n",
    "    for script in soup([\"script\", \"style\"]):\n",
    "        script.decompose()    # rip it out\n",
    "\n",
    "    fh = open(\"%s.txt\" % link.split('/')[-1],\"w\")\n",
    "    text = soup.find('div', attrs={ \"class\" : \"brick _red _width_x2 _height_mini _nudge_bottom _nudge_right_alpha _right\"}).text.encode('utf-8')\n",
    "    fh.write(text)\n",
    "    text = soup.find('div', attrs={ \"class\" : \"sf_colsOut content main\"}).text.encode('utf-8')\n",
    "\n",
    "    fh.write(text)\n",
    "    fh.close()"
   ]
  },
  {
   "cell_type": "code",
   "execution_count": 196,
   "metadata": {
    "collapsed": false
   },
   "outputs": [],
   "source": [
    "pages_left = ['http://www.soprasteria.in/about-us/global-delivery-model',\n",
    "              'http://www.soprasteria.in/careers/life-in-sopra-steria'\n",
    "             ]\n",
    "\n",
    "for link in pages_left:\n",
    "    sauce = requests.get(link).text\n",
    "    soup = bs.BeautifulSoup(sauce,'lxml')\n",
    "\n",
    "    for script in soup([\"script\", \"style\"]):\n",
    "        script.decompose()\n",
    "        \n",
    "    text = soup.find('div', attrs={ \"class\" : \"sf_colsIn sf_2cols_1in_67\"}).text.encode('utf-8')\n",
    "    fh = open(\"%s.txt\" % link.split('/')[-1],\"w\")\n",
    "    fh.write(text)\n",
    "    fh.close()"
   ]
  },
  {
   "cell_type": "code",
   "execution_count": 230,
   "metadata": {
    "collapsed": false
   },
   "outputs": [],
   "source": [
    "from selenium.webdriver.support import expected_conditions as EC\n",
    "from selenium.webdriver.support.ui import WebDriverWait as wait\n",
    "from selenium import webdriver\n",
    "\n",
    "driver = webdriver.PhantomJS()\n",
    "driver.get(\"https://steria.taleo.net/careersection/in_cs_ext_fs/jobsearch.ftl?lang=en&radiusType=K&location=462170431401&searchExpanded=true&radius=1\")\n",
    "table = wait(driver, 10).until(EC.presence_of_element_located((\"xpath\", \"//table[@id='jobs' and ./tbody/tr]\")))\n",
    "text1 = table.text\n",
    "next_button = driver.find_element_by_link_text(\"Next\")\n",
    "next_button.click()\n",
    "\n",
    "wait(driver, 5).until(lambda x: next_button.get_attribute(\"aria-disabled\") == \"true\")\n",
    "table = wait(driver, 10).until(EC.presence_of_element_located((\"xpath\", \"//table[@id='jobs' and ./tbody/tr]\")))\n",
    "text2 = table.text\n",
    "driver.close()"
   ]
  },
  {
   "cell_type": "code",
   "execution_count": 233,
   "metadata": {
    "collapsed": false
   },
   "outputs": [],
   "source": [
    "fh = open('current-openings.txt','w')\n",
    "fh.write(text1.encode('utf-8'))\n",
    "fh.write(text2.encode('utf-8'))\n",
    "fh.close()"
   ]
  },
  {
   "cell_type": "code",
   "execution_count": 281,
   "metadata": {
    "collapsed": false
   },
   "outputs": [],
   "source": [
    "sauce = requests.get('https://www.soprasteria.com/en/solutions').text\n",
    "soup = bs.BeautifulSoup(sauce,'lxml')\n",
    "\n",
    "solution_links = []\n",
    "i=0\n",
    "    \n",
    "for link in soup.find('div', attrs={ \"class\" : \"brick _alpha_light _right\"}).find_all('a'):\n",
    "    if i != 5:\n",
    "        solution_links.append(\"http://www.soprasteria.com\" + link.get('href'))\n",
    "    i=i+1"
   ]
  },
  {
   "cell_type": "code",
   "execution_count": 301,
   "metadata": {
    "collapsed": false,
    "scrolled": true
   },
   "outputs": [
    {
     "name": "stdout",
     "output_type": "stream",
     "text": [
      "Systems Integration Increasing agility, operating efficiency and business-line value through controlled Information System integration \n",
      "\n",
      "Does your Information System (IS) allow you to offer high-quality customer service?  Or is the data indispensable to informed decision-making and sound knowledge of your customers fragmented divided across different systems that do not communicate with one another?  Sopra Steria can help you control your data. Our experts, specialising in multiple technologies and standards, are well aware that our clients' pre-existing systems hold highly valuable sets of data. We believe that by integrating information from multiple sources to present them clearly in a single operational view, companies are at last able to access information. This will guide their strategic decisions and improve the overall effectiveness of their organisation to the benefit of their business-line transformation projects.  Our extensive experience of integration projects, both software-package solutions and specific business-line applications, has taught us that successful integration does not stop at the interconnection of networked systems. Real-time management of information flows involves establishing connections, interfaces and complex security checks.    As specialists in systems integration, we are involved from the consultancy stage through to designing and deploying solutions. Once integrated, technology can become a substantial source of income, giving you access to invaluable data on your customers' behaviour and allowing you to make operating efficiency gains.  \n",
      "\n",
      "\n",
      "Scientific, Technical, Industrial and embedded software engineering Innovating and supporting large-scale industrial programmes \n",
      "\n",
      "Users of industrial computer systems must manage the key components of technology, security, innovation, cost control and ever shorter lead times. \n",
      "The Sopra Steria Scientific, Technical, Industrial and On-board offering provides engineering markets with intensive software products, real-time systems, and on-board and supervision software. This is primarily targeted at the aerospace, aviation, marine and nuclear industries, but is also relevant for all high-technology industries.\n",
      " With nearly 1,000 specialists, we support our clients from the upstream engineering phases to development of critical-software systems.  We ensure their through-life maintenance in operational conditions (MOC). \n",
      " This is a mission made possible by strong business-line, functional and technological skills in:\n",
      "\n",
      "Simulation and testing \n",
      "Supervision and remote operation\n",
      "On-board software and critical real-time systems\n",
      "Connected objects, electronics and radar signal processing\n",
      "Telecoms and on-board networks.\n",
      "\n",
      "These skills are supported by specific expertise in the following areas: \n",
      "\n",
      "Aerospace systems (energy, cockpit, flight control, positioning, altimetry, flight training and control centres)\n",
      "Air-traffic management and control\n",
      "Implementation of testing methods\n",
      "Acoustic signature of naval ships\n",
      "Combat system, sonar and radar processing, neutronics and thermodynamics\n",
      "Scientific computing\n",
      "Operating safety (DO178, DO200, nuclear, etc.)\n",
      "Cyber security.\n",
      "\n",
      "We are committed to quality and safety:\n",
      "\n",
      "A strong culture of process industrialisation and project management\n",
      "    (ISO 9001 certification: 2000, CMMI, Sopra Steria Quality System)\n",
      "Partnership with the leading publishers: Esterel/SCADE, Telelogic/Synergy and DOORS, TNI/Reqtify, Mercury/Test Director, Matlab/Simulink, Qt, Ilog, CAST, etc. \n",
      "\n",
      "\n",
      "\n",
      "\n",
      "Application Management    Aligning application portfolios with business objectives  \n",
      "\n",
      "With the appearance of new disruptive technologies, a company’s business performance increasingly relies on its information system.  IT applications must therefore be agile and efficient to support and facilitate digital transformation.  As a leading player in application management market, Sopra Steria simplifies complexity, improves maintainability and supports the development of application portfolios. \n",
      "We offer our clients the following:    Proximity: an extended network of service centres to be ever closer to our customers  Agility: a pragmatic approach that allows for short development cycles and regular, safe production runs (Devops) Commitment: technical and business KPIs (key performance indicators) aligned with your business challenges  Service quality: compliance with market standards (ISO, CMMI, ITIL, etc.) combined with a continuous improvement programme (Lean IT) Pay per use: flexible billing to prevent waste and minimise costs Delivery: an integrated production model of Onshore/Nearshore/Offshore to optimise costs  Industrialisation: a service catalogue, method and industrial tools (Forge, Continuous Integration Platform, Testing) Business expertise: knowledge of diverse sectors enabling us to adapt to industry-specific challenges.   Sopra Steria offers a range of innovative industrial application management services that not only addresses the issues of obsolescence and modernisation, but also guarantees optimum flexibility and creates value for our customers.   \n",
      "\n",
      "\n",
      "Software Testing & Quality Assurance   Testing efficiently from the word go  \n",
      "\n",
      "To meet the growing demand for new services in a complex environment (time to market, cost optimisation, etc.), companies must be absolutely sure that their software tests are effective right from the start.   With RightTesting®, Sopra Steria, one of the leaders in the testing market, offers a comprehensive, three-phase approach:   Consulting Services: collaborating to define a testing strategy adapted to your specific challenges, and backed by a business case and roadmap to facilitate decision-making and optimise your investments Transformation Services: implementing the roadmap as part of a transformation process that includes change management Managed Services: producing consistent services, on your premises or in a pooled expertise centre, based on processes that are industrialised through an ongoing improvement approach.  Our all-inclusive Testing and Quality Assurance procedure relies on a pragmatic approach and a tool-based methodology with technology partners. It is founded on risk-based testing (RBT). Guided by industrial standards (e.g. TMMi3 and ISTQB certification) and decades of experience, we assess testing operations and transform them if necessary.  We guarantee that each investment is in line with our customers’ strategic targets, with a particular focus on reducing the costs and time-to-market of new products and services.\n",
      "  \n",
      "\n",
      "\n",
      "Infrastructure Management  Guaranteeing efficient infrastructures in an all-virtual world  \n",
      "\n",
      "New digital technologies and uses (Cloud, Big Data, mobility, social, etc.) require a profound adaptation of infrastructures and the way in which they are managed in order to meet current business demands. With the growing use of Cloud,  IT becomes a “service centre” for core businesses.  Sopra Steria, a leading player in managed services, supports and carries out this transformation. As a service integrator and operator, we aggregate traditional infrastructure services and Cloud services in a complete, secure “as a Service” offer.   Our Cloud Service Broker offer facilitates the integration of Cloud services – Infrastructure as a Service (IaaS) Platform as a Service (PaaS) and Software as a Service (SaaS) – in your company’s ecosystem, whichever mode of sourcing you use (private or public), through three functions:    Aggregating services in a portal made up of service catalogues  Customising services according to the user profile Integrating services in the company Information System (IS) and coordinating them.    We also offer an “End-User Centric” approach for an innovative work environment where users can access all applications anytime, anywhere, and on any device.  Our Infrastructure Management services rely on three fundamental pillars:    Consulting and Professional Service teams: advice (IT Service Excellence), Cloud Building, project management and transformation management An industrial production tool: for robust, efficient, scalable infrastructures managed through X-shore Innovative pricing models: cost diversification, pay per use and improved financial performance    \n",
      "\n",
      "\n",
      "Business Process Services  Supporting enterprise transformation for greater efficiency, agility and competitiveness  \n",
      "\n",
      "In an extremely volatile environment, the pressure to increase efficiency and profitability is greater than ever.  This has led to more and more companies seeking to outsource certain processes, ranging from the management of support functions for handling customer claims to invoice processing.  It is a proven business strategy that is delivering significant benefits to early adopters.   The Sopra Steria Business Process Services (BPS) offer is a relevant and innovative answer to your search for performance. We are an experienced partner in the operation of business processes and functions, in part or in full. We enable you to optimise operations, rationalise costs and introduce greater flexibility in the management of certain functions. This makes our BPS offering a real lever for transformation, whilst freeing up your company to focus on its core business.    We offer support in the following key areas:  Creation or on-boarding, and operation of multi-function shared services; Operation of Finance & Administration (F&A) functions; Operation of Human Resource functions, in particular those  relating to staff administration; Operation of specialised industry-specific business processes, such as operating and executing services in police control rooms, managing compliance in financial services, and managing customer services for large utilities.   Our comprehensive Process Intelligence Methodology (PIM) is the backbone of our approach.  It covers the complete business ‘run-change’ cycle, drawing on our consultancy, transformation and delivery services.  Through the tools, methods and experience embodied within PIM, we take organisations from health checks, through radical re-visioning of the operating model, to transformed services that are sustainably improving. This is all delivered by a motivated and  empowered team.  The end result is not only a more efficient, lower cost operation but, through the use of Enhanced Lean, a more effective and agile operation.   Our team comprises experts in business processes, technology, integration and data architectures, and is involved in all stages from advice to operation. We have a unique expertise in BPS and shared services built on experience acquired over a number of years. This enables us to design solutions and run services that are both efficient and profitable for our clients.    \n",
      "\n",
      "\n"
     ]
    }
   ],
   "source": [
    "for link in solution_links:\n",
    "    while True:\n",
    "        try:\n",
    "            sauce = requests.get(link).text\n",
    "        except requests.ConnectionError:\n",
    "            continue\n",
    "        break\n",
    "    soup = bs.BeautifulSoup(sauce,'lxml')\n",
    "    \n",
    "    for script in soup([\"script\", \"style\"]):\n",
    "        script.decompose()    # rip it out\n",
    "    \n",
    "    \n",
    "    if soup.find('div', attrs={ \"class\" : \"brick _alpha_light _right\"}) is None:\n",
    "        text = soup.find('div', attrs={ \"class\" : \"brick _red _width_x2 _height_mini _nudge_bottom _nudge_right_alpha _right\"}).text.encode('utf-8')\n",
    "        text = soup.find('div', attrs={ \"class\" : \"sf_colsIn sf_2cols_1in_67\"}).text.encode('utf-8')\n"
   ]
  },
  {
   "cell_type": "code",
   "execution_count": null,
   "metadata": {
    "collapsed": true
   },
   "outputs": [],
   "source": [
    "https://www.soprasteria.com/en/offerings brick _red _width_x2 _height_mini _nudge_bottom _nudge_right_alpha _right\n",
    "    \n",
    "    sf_colsOut content"
   ]
  }
 ],
 "metadata": {
  "anaconda-cloud": {},
  "kernelspec": {
   "display_name": "Python [default]",
   "language": "python",
   "name": "python2"
  },
  "language_info": {
   "codemirror_mode": {
    "name": "ipython",
    "version": 2
   },
   "file_extension": ".py",
   "mimetype": "text/x-python",
   "name": "python",
   "nbconvert_exporter": "python",
   "pygments_lexer": "ipython2",
   "version": "2.7.12"
  }
 },
 "nbformat": 4,
 "nbformat_minor": 1
}
